{
 "cells": [
  {
   "cell_type": "markdown",
   "source": [
    "## Introducción\n",
    "\n",
    "Hay tres tipos de aprendizaje automático:\n",
    "\n",
    "- Aprendizaje supervisado: tenemos datos etiquetados, predice una salida/futuro.\n",
    "- Aprendizaje no supervisado: Datos no etiquetados, encontrar patrones y estructuras escondidas en los datos.\n",
    "- Aprendizaje por refuerzo: Proceso de decisión, sistema de recompensas, aprender una serie de acciones.\n",
    "\n",
    "### Haciendo predicciones sobre el futuro con aprendizaje supervisado\n",
    "\n",
    "El principal objetivo es aprender un modelo de datos de entrenamiento etiquetados que nos permita hacer predicciones sobre datos no observados. Tenemos datos de entrada y las etiquetas, con estos datos entrenamos un modelo a través de un algoritmo de aprendizaje automático, a este modelo le pasamos nuevos datos no observados anteriormente y obtenemos las etiquetas predichas por el modelo.\n",
    "\n",
    "## Terminología\n",
    "\n",
    "- Función de pérdida: Usada como sinónimo de función de costo. También llamada a veces función error. El término 'perdida' se refiere la pérdida medida a un punto individual y el costo es una medida que computa la pérdida sobre todo el conjunto de datos.\n",
    "\n",
    "## Preprocesamiento\n",
    "\n",
    "Muchos algoritmos requieren que las variables estén es la misma escala para el mejor rendimiento, para esto estandarizamos los datos.\n",
    "Algunas de las variables escogidas tendrán una correlación muy alta y, por lo tanto, son redundantes. En esos casos es útil hacer reducción de dimensión. La reducción de dimensión no es tan recomendable ya que se pierde mucha información, pero en algunos casos como en el de variables con alta correlación puede llegar a ayudar al rendimiento del modelo.\n",
    "\n"
   ],
   "metadata": {
    "collapsed": false
   },
   "id": "d4513f8c1c2f3a06"
  },
  {
   "cell_type": "code",
   "execution_count": null,
   "id": "initial_id",
   "metadata": {
    "collapsed": true
   },
   "outputs": [],
   "source": []
  }
 ],
 "metadata": {
  "kernelspec": {
   "display_name": "Python 3",
   "language": "python",
   "name": "python3"
  },
  "language_info": {
   "codemirror_mode": {
    "name": "ipython",
    "version": 2
   },
   "file_extension": ".py",
   "mimetype": "text/x-python",
   "name": "python",
   "nbconvert_exporter": "python",
   "pygments_lexer": "ipython2",
   "version": "2.7.6"
  }
 },
 "nbformat": 4,
 "nbformat_minor": 5
}
