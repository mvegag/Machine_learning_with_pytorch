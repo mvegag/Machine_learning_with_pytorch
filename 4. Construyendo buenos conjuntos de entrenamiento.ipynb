{
 "cells": [
  {
   "cell_type": "markdown",
   "source": [
    "## Preguntas\n",
    "\n",
    "* Cual es la importancia de pre procesar los conjuntos de datos?\n",
    "\n",
    "### Datos perdidos\n",
    "\n",
    "* Cual es la importancia de tratar los valores perdidos?\n",
    "\n",
    "### Identificando valores perdidos en datos tabulares\n"
   ],
   "metadata": {
    "collapsed": false
   },
   "id": "68bab96705d37eb2"
  },
  {
   "cell_type": "code",
   "execution_count": 1,
   "id": "initial_id",
   "metadata": {
    "collapsed": true,
    "ExecuteTime": {
     "end_time": "2024-04-01T10:31:57.939526Z",
     "start_time": "2024-04-01T10:31:57.310995Z"
    }
   },
   "outputs": [
    {
     "data": {
      "text/plain": "      A     B     C    D\n0   1.0   2.0   3.0  4.0\n1   5.0   6.0   NaN  8.0\n2  10.0  11.0  12.0  NaN",
      "text/html": "<div>\n<style scoped>\n    .dataframe tbody tr th:only-of-type {\n        vertical-align: middle;\n    }\n\n    .dataframe tbody tr th {\n        vertical-align: top;\n    }\n\n    .dataframe thead th {\n        text-align: right;\n    }\n</style>\n<table border=\"1\" class=\"dataframe\">\n  <thead>\n    <tr style=\"text-align: right;\">\n      <th></th>\n      <th>A</th>\n      <th>B</th>\n      <th>C</th>\n      <th>D</th>\n    </tr>\n  </thead>\n  <tbody>\n    <tr>\n      <th>0</th>\n      <td>1.0</td>\n      <td>2.0</td>\n      <td>3.0</td>\n      <td>4.0</td>\n    </tr>\n    <tr>\n      <th>1</th>\n      <td>5.0</td>\n      <td>6.0</td>\n      <td>NaN</td>\n      <td>8.0</td>\n    </tr>\n    <tr>\n      <th>2</th>\n      <td>10.0</td>\n      <td>11.0</td>\n      <td>12.0</td>\n      <td>NaN</td>\n    </tr>\n  </tbody>\n</table>\n</div>"
     },
     "execution_count": 1,
     "metadata": {},
     "output_type": "execute_result"
    }
   ],
   "source": [
    "import pandas as pd\n",
    "from io import StringIO\n",
    "\n",
    "csv_data = \\\n",
    "'''A,B,C,D\n",
    "1.0, 2.0, 3.0, 4.0\n",
    "5.0, 6.0,, 8.0\n",
    "10.0, 11.0, 12.0,'''\n",
    "\n",
    "df = pd.read_csv(StringIO(csv_data))\n",
    "df"
   ]
  },
  {
   "cell_type": "code",
   "outputs": [
    {
     "data": {
      "text/plain": "A    0\nB    0\nC    1\nD    1\ndtype: int64"
     },
     "execution_count": 2,
     "metadata": {},
     "output_type": "execute_result"
    }
   ],
   "source": [
    "df.isnull().sum()"
   ],
   "metadata": {
    "collapsed": false,
    "ExecuteTime": {
     "end_time": "2024-04-01T10:31:57.946806Z",
     "start_time": "2024-04-01T10:31:57.940528Z"
    }
   },
   "id": "df3db6a4a6dec5d1",
   "execution_count": 2
  },
  {
   "cell_type": "markdown",
   "source": [
    "### Eliminando ejemplos o variables con valores perdidos"
   ],
   "metadata": {
    "collapsed": false
   },
   "id": "992ba977bf7ec309"
  },
  {
   "cell_type": "code",
   "outputs": [
    {
     "data": {
      "text/plain": "     A    B    C    D\n0  1.0  2.0  3.0  4.0",
      "text/html": "<div>\n<style scoped>\n    .dataframe tbody tr th:only-of-type {\n        vertical-align: middle;\n    }\n\n    .dataframe tbody tr th {\n        vertical-align: top;\n    }\n\n    .dataframe thead th {\n        text-align: right;\n    }\n</style>\n<table border=\"1\" class=\"dataframe\">\n  <thead>\n    <tr style=\"text-align: right;\">\n      <th></th>\n      <th>A</th>\n      <th>B</th>\n      <th>C</th>\n      <th>D</th>\n    </tr>\n  </thead>\n  <tbody>\n    <tr>\n      <th>0</th>\n      <td>1.0</td>\n      <td>2.0</td>\n      <td>3.0</td>\n      <td>4.0</td>\n    </tr>\n  </tbody>\n</table>\n</div>"
     },
     "execution_count": 3,
     "metadata": {},
     "output_type": "execute_result"
    }
   ],
   "source": [
    "df.dropna(axis = 0)"
   ],
   "metadata": {
    "collapsed": false,
    "ExecuteTime": {
     "end_time": "2024-04-01T10:31:57.955997Z",
     "start_time": "2024-04-01T10:31:57.946806Z"
    }
   },
   "id": "e1f7c50deb3d4506",
   "execution_count": 3
  },
  {
   "cell_type": "code",
   "outputs": [
    {
     "data": {
      "text/plain": "      A     B\n0   1.0   2.0\n1   5.0   6.0\n2  10.0  11.0",
      "text/html": "<div>\n<style scoped>\n    .dataframe tbody tr th:only-of-type {\n        vertical-align: middle;\n    }\n\n    .dataframe tbody tr th {\n        vertical-align: top;\n    }\n\n    .dataframe thead th {\n        text-align: right;\n    }\n</style>\n<table border=\"1\" class=\"dataframe\">\n  <thead>\n    <tr style=\"text-align: right;\">\n      <th></th>\n      <th>A</th>\n      <th>B</th>\n    </tr>\n  </thead>\n  <tbody>\n    <tr>\n      <th>0</th>\n      <td>1.0</td>\n      <td>2.0</td>\n    </tr>\n    <tr>\n      <th>1</th>\n      <td>5.0</td>\n      <td>6.0</td>\n    </tr>\n    <tr>\n      <th>2</th>\n      <td>10.0</td>\n      <td>11.0</td>\n    </tr>\n  </tbody>\n</table>\n</div>"
     },
     "execution_count": 4,
     "metadata": {},
     "output_type": "execute_result"
    }
   ],
   "source": [
    "df.dropna(axis = 1)"
   ],
   "metadata": {
    "collapsed": false,
    "ExecuteTime": {
     "end_time": "2024-04-01T10:31:57.968107Z",
     "start_time": "2024-04-01T10:31:57.957021Z"
    }
   },
   "id": "cf5ee10b930bba05",
   "execution_count": 4
  },
  {
   "cell_type": "code",
   "outputs": [
    {
     "data": {
      "text/plain": "      A     B     C    D\n0   1.0   2.0   3.0  4.0\n1   5.0   6.0   NaN  8.0\n2  10.0  11.0  12.0  NaN",
      "text/html": "<div>\n<style scoped>\n    .dataframe tbody tr th:only-of-type {\n        vertical-align: middle;\n    }\n\n    .dataframe tbody tr th {\n        vertical-align: top;\n    }\n\n    .dataframe thead th {\n        text-align: right;\n    }\n</style>\n<table border=\"1\" class=\"dataframe\">\n  <thead>\n    <tr style=\"text-align: right;\">\n      <th></th>\n      <th>A</th>\n      <th>B</th>\n      <th>C</th>\n      <th>D</th>\n    </tr>\n  </thead>\n  <tbody>\n    <tr>\n      <th>0</th>\n      <td>1.0</td>\n      <td>2.0</td>\n      <td>3.0</td>\n      <td>4.0</td>\n    </tr>\n    <tr>\n      <th>1</th>\n      <td>5.0</td>\n      <td>6.0</td>\n      <td>NaN</td>\n      <td>8.0</td>\n    </tr>\n    <tr>\n      <th>2</th>\n      <td>10.0</td>\n      <td>11.0</td>\n      <td>12.0</td>\n      <td>NaN</td>\n    </tr>\n  </tbody>\n</table>\n</div>"
     },
     "execution_count": 5,
     "metadata": {},
     "output_type": "execute_result"
    }
   ],
   "source": [
    "df.dropna(how = 'all')"
   ],
   "metadata": {
    "collapsed": false,
    "ExecuteTime": {
     "end_time": "2024-04-01T10:31:57.981553Z",
     "start_time": "2024-04-01T10:31:57.968107Z"
    }
   },
   "id": "efc30b5c20424a8e",
   "execution_count": 5
  },
  {
   "cell_type": "code",
   "outputs": [
    {
     "data": {
      "text/plain": "     A    B    C    D\n0  1.0  2.0  3.0  4.0",
      "text/html": "<div>\n<style scoped>\n    .dataframe tbody tr th:only-of-type {\n        vertical-align: middle;\n    }\n\n    .dataframe tbody tr th {\n        vertical-align: top;\n    }\n\n    .dataframe thead th {\n        text-align: right;\n    }\n</style>\n<table border=\"1\" class=\"dataframe\">\n  <thead>\n    <tr style=\"text-align: right;\">\n      <th></th>\n      <th>A</th>\n      <th>B</th>\n      <th>C</th>\n      <th>D</th>\n    </tr>\n  </thead>\n  <tbody>\n    <tr>\n      <th>0</th>\n      <td>1.0</td>\n      <td>2.0</td>\n      <td>3.0</td>\n      <td>4.0</td>\n    </tr>\n  </tbody>\n</table>\n</div>"
     },
     "execution_count": 6,
     "metadata": {},
     "output_type": "execute_result"
    }
   ],
   "source": [
    "df.dropna(thresh = 4)"
   ],
   "metadata": {
    "collapsed": false,
    "ExecuteTime": {
     "end_time": "2024-04-01T10:31:57.991466Z",
     "start_time": "2024-04-01T10:31:57.982583Z"
    }
   },
   "id": "68803b5e6a52508b",
   "execution_count": 6
  },
  {
   "cell_type": "code",
   "outputs": [
    {
     "data": {
      "text/plain": "      A     B     C    D\n0   1.0   2.0   3.0  4.0\n2  10.0  11.0  12.0  NaN",
      "text/html": "<div>\n<style scoped>\n    .dataframe tbody tr th:only-of-type {\n        vertical-align: middle;\n    }\n\n    .dataframe tbody tr th {\n        vertical-align: top;\n    }\n\n    .dataframe thead th {\n        text-align: right;\n    }\n</style>\n<table border=\"1\" class=\"dataframe\">\n  <thead>\n    <tr style=\"text-align: right;\">\n      <th></th>\n      <th>A</th>\n      <th>B</th>\n      <th>C</th>\n      <th>D</th>\n    </tr>\n  </thead>\n  <tbody>\n    <tr>\n      <th>0</th>\n      <td>1.0</td>\n      <td>2.0</td>\n      <td>3.0</td>\n      <td>4.0</td>\n    </tr>\n    <tr>\n      <th>2</th>\n      <td>10.0</td>\n      <td>11.0</td>\n      <td>12.0</td>\n      <td>NaN</td>\n    </tr>\n  </tbody>\n</table>\n</div>"
     },
     "execution_count": 7,
     "metadata": {},
     "output_type": "execute_result"
    }
   ],
   "source": [
    "df.dropna(subset = ['C'])"
   ],
   "metadata": {
    "collapsed": false,
    "ExecuteTime": {
     "end_time": "2024-04-01T10:31:58.001816Z",
     "start_time": "2024-04-01T10:31:57.992474Z"
    }
   },
   "id": "4418a7aa5528928",
   "execution_count": 7
  },
  {
   "cell_type": "markdown",
   "source": [
    "* Cuáles son las desventajas de este método?\n",
    "\n",
    "### Imputar valores perdidos\n"
   ],
   "metadata": {
    "collapsed": false
   },
   "id": "a930f05a324d988b"
  },
  {
   "cell_type": "code",
   "outputs": [
    {
     "data": {
      "text/plain": "array([[ 1. ,  2. ,  3. ,  4. ],\n       [ 5. ,  6. ,  7.5,  8. ],\n       [10. , 11. , 12. ,  6. ]])"
     },
     "execution_count": 8,
     "metadata": {},
     "output_type": "execute_result"
    }
   ],
   "source": [
    "from sklearn.impute import SimpleImputer\n",
    "import numpy as np\n",
    "\n",
    "imr = SimpleImputer(missing_values = np.nan, strategy = 'mean')\n",
    "imr = imr.fit(df.values)\n",
    "imputed_data = imr.transform(df.values)\n",
    "imputed_data"
   ],
   "metadata": {
    "collapsed": false,
    "ExecuteTime": {
     "end_time": "2024-04-01T10:32:00.011449Z",
     "start_time": "2024-04-01T10:31:58.002818Z"
    }
   },
   "id": "20b5499a911c60e0",
   "execution_count": 8
  },
  {
   "cell_type": "markdown",
   "source": [
    "* Qué otros métodos hay para el parámetro `strategy`?\n"
   ],
   "metadata": {
    "collapsed": false
   },
   "id": "fdec23f6ea82e910"
  },
  {
   "cell_type": "code",
   "outputs": [
    {
     "data": {
      "text/plain": "      A     B     C    D\n0   1.0   2.0   3.0  4.0\n1   5.0   6.0   7.5  8.0\n2  10.0  11.0  12.0  6.0",
      "text/html": "<div>\n<style scoped>\n    .dataframe tbody tr th:only-of-type {\n        vertical-align: middle;\n    }\n\n    .dataframe tbody tr th {\n        vertical-align: top;\n    }\n\n    .dataframe thead th {\n        text-align: right;\n    }\n</style>\n<table border=\"1\" class=\"dataframe\">\n  <thead>\n    <tr style=\"text-align: right;\">\n      <th></th>\n      <th>A</th>\n      <th>B</th>\n      <th>C</th>\n      <th>D</th>\n    </tr>\n  </thead>\n  <tbody>\n    <tr>\n      <th>0</th>\n      <td>1.0</td>\n      <td>2.0</td>\n      <td>3.0</td>\n      <td>4.0</td>\n    </tr>\n    <tr>\n      <th>1</th>\n      <td>5.0</td>\n      <td>6.0</td>\n      <td>7.5</td>\n      <td>8.0</td>\n    </tr>\n    <tr>\n      <th>2</th>\n      <td>10.0</td>\n      <td>11.0</td>\n      <td>12.0</td>\n      <td>6.0</td>\n    </tr>\n  </tbody>\n</table>\n</div>"
     },
     "execution_count": 9,
     "metadata": {},
     "output_type": "execute_result"
    }
   ],
   "source": [
    "df.fillna(df.mean())"
   ],
   "metadata": {
    "collapsed": false,
    "ExecuteTime": {
     "end_time": "2024-04-01T10:32:00.025131Z",
     "start_time": "2024-04-01T10:32:00.012459Z"
    }
   },
   "id": "d8ce6b833d41dc2",
   "execution_count": 9
  },
  {
   "cell_type": "markdown",
   "source": [
    "Leer [imputación](https://scikit-learn.org/stable/modules/impute.html)\n",
    "\n",
    "* Qué otras imputaciones hay?\n",
    "* Cual sería mejor?\n",
    "\n",
    "## Entendiendo la API estimator de scikit-learn\n",
    "\n",
    "* Qué es el API transfomador?\n",
    "* Cuales son los dos métodos importantes?\n",
    "* Qué hacen los dos métodos?\n",
    "\n",
    "## Manejando datos categóricos\n",
    "\n",
    "* Qué son variables ordinales y nominales?\n",
    "\n",
    "### Codificación de datos categóricos con pandas\n"
   ],
   "metadata": {
    "collapsed": false
   },
   "id": "3bac53efa52c1a77"
  },
  {
   "cell_type": "code",
   "outputs": [
    {
     "data": {
      "text/plain": "   color tamaño  precio etiqueta_clase\n0  verde      M    10.1         clase2\n1   rojo      L    13.5         clase1\n2   azul     XL    15.3         clase2",
      "text/html": "<div>\n<style scoped>\n    .dataframe tbody tr th:only-of-type {\n        vertical-align: middle;\n    }\n\n    .dataframe tbody tr th {\n        vertical-align: top;\n    }\n\n    .dataframe thead th {\n        text-align: right;\n    }\n</style>\n<table border=\"1\" class=\"dataframe\">\n  <thead>\n    <tr style=\"text-align: right;\">\n      <th></th>\n      <th>color</th>\n      <th>tamaño</th>\n      <th>precio</th>\n      <th>etiqueta_clase</th>\n    </tr>\n  </thead>\n  <tbody>\n    <tr>\n      <th>0</th>\n      <td>verde</td>\n      <td>M</td>\n      <td>10.1</td>\n      <td>clase2</td>\n    </tr>\n    <tr>\n      <th>1</th>\n      <td>rojo</td>\n      <td>L</td>\n      <td>13.5</td>\n      <td>clase1</td>\n    </tr>\n    <tr>\n      <th>2</th>\n      <td>azul</td>\n      <td>XL</td>\n      <td>15.3</td>\n      <td>clase2</td>\n    </tr>\n  </tbody>\n</table>\n</div>"
     },
     "execution_count": 10,
     "metadata": {},
     "output_type": "execute_result"
    }
   ],
   "source": [
    "df = pd.DataFrame([\n",
    "    ['verde', 'M', 10.1, 'clase2'],\n",
    "    ['rojo', 'L', 13.5, 'clase1'],\n",
    "    ['azul', 'XL', 15.3, 'clase2']])\n",
    "df.columns = ['color', 'tamaño', 'precio', 'etiqueta_clase']\n",
    "df\n"
   ],
   "metadata": {
    "collapsed": false,
    "ExecuteTime": {
     "end_time": "2024-04-01T10:32:00.039515Z",
     "start_time": "2024-04-01T10:32:00.028189Z"
    }
   },
   "id": "778a8ab7171fbc82",
   "execution_count": 10
  },
  {
   "cell_type": "markdown",
   "source": [
    "* Cual es el tipo de cada columna?\n",
    "\n",
    "### Mapeando variables ordinales\n",
    "\n",
    "* Para qué tenemos que mapear las variables ordinales a números?\n"
   ],
   "metadata": {
    "collapsed": false
   },
   "id": "8065cbaeeb07f958"
  },
  {
   "cell_type": "code",
   "outputs": [
    {
     "data": {
      "text/plain": "   color  tamaño  precio etiqueta_clase\n0  verde       1    10.1         clase2\n1   rojo       2    13.5         clase1\n2   azul       3    15.3         clase2",
      "text/html": "<div>\n<style scoped>\n    .dataframe tbody tr th:only-of-type {\n        vertical-align: middle;\n    }\n\n    .dataframe tbody tr th {\n        vertical-align: top;\n    }\n\n    .dataframe thead th {\n        text-align: right;\n    }\n</style>\n<table border=\"1\" class=\"dataframe\">\n  <thead>\n    <tr style=\"text-align: right;\">\n      <th></th>\n      <th>color</th>\n      <th>tamaño</th>\n      <th>precio</th>\n      <th>etiqueta_clase</th>\n    </tr>\n  </thead>\n  <tbody>\n    <tr>\n      <th>0</th>\n      <td>verde</td>\n      <td>1</td>\n      <td>10.1</td>\n      <td>clase2</td>\n    </tr>\n    <tr>\n      <th>1</th>\n      <td>rojo</td>\n      <td>2</td>\n      <td>13.5</td>\n      <td>clase1</td>\n    </tr>\n    <tr>\n      <th>2</th>\n      <td>azul</td>\n      <td>3</td>\n      <td>15.3</td>\n      <td>clase2</td>\n    </tr>\n  </tbody>\n</table>\n</div>"
     },
     "execution_count": 11,
     "metadata": {},
     "output_type": "execute_result"
    }
   ],
   "source": [
    "mapeado_tamano = {'XL': 3,\n",
    "                  'L': 2,\n",
    "                  'M': 1}\n",
    "\n",
    "df['tamaño'] = df['tamaño'].map(mapeado_tamano)\n",
    "df"
   ],
   "metadata": {
    "collapsed": false,
    "ExecuteTime": {
     "end_time": "2024-04-01T10:32:00.049596Z",
     "start_time": "2024-04-01T10:32:00.041024Z"
    }
   },
   "id": "ea443a6ccbc7d3f7",
   "execution_count": 11
  },
  {
   "cell_type": "code",
   "outputs": [
    {
     "data": {
      "text/plain": "0     M\n1     L\n2    XL\nName: tamaño, dtype: object"
     },
     "execution_count": 12,
     "metadata": {},
     "output_type": "execute_result"
    }
   ],
   "source": [
    "mapeado_inv = {v: k for k, v in mapeado_tamano.items()}\n",
    "df['tamaño'].map(mapeado_inv)"
   ],
   "metadata": {
    "collapsed": false,
    "ExecuteTime": {
     "end_time": "2024-04-01T10:32:00.059199Z",
     "start_time": "2024-04-01T10:32:00.050919Z"
    }
   },
   "id": "f63f724acf1f1e60",
   "execution_count": 12
  },
  {
   "cell_type": "markdown",
   "source": [
    "### Codificando las etiquetas de clase\n",
    "\n",
    "* Para qué codificamos las etiquetas de clase?\n",
    "* Cual es la diferencia con la codificación que hicimos antes?\n",
    "\n"
   ],
   "metadata": {
    "collapsed": false
   },
   "id": "8a81863f95e5912e"
  },
  {
   "cell_type": "code",
   "outputs": [
    {
     "data": {
      "text/plain": "{'clase1': 0, 'clase2': 1}"
     },
     "execution_count": 13,
     "metadata": {},
     "output_type": "execute_result"
    }
   ],
   "source": [
    "mapeado_clase = {etiqueta: idx for idx, etiqueta in\n",
    "                 enumerate(np.unique(df['etiqueta_clase']))}\n",
    "mapeado_clase"
   ],
   "metadata": {
    "collapsed": false,
    "ExecuteTime": {
     "end_time": "2024-04-01T10:32:00.066454Z",
     "start_time": "2024-04-01T10:32:00.060293Z"
    }
   },
   "id": "fd41bd9ab454d087",
   "execution_count": 13
  },
  {
   "cell_type": "code",
   "outputs": [
    {
     "data": {
      "text/plain": "   color  tamaño  precio  etiqueta_clase\n0  verde       1    10.1               1\n1   rojo       2    13.5               0\n2   azul       3    15.3               1",
      "text/html": "<div>\n<style scoped>\n    .dataframe tbody tr th:only-of-type {\n        vertical-align: middle;\n    }\n\n    .dataframe tbody tr th {\n        vertical-align: top;\n    }\n\n    .dataframe thead th {\n        text-align: right;\n    }\n</style>\n<table border=\"1\" class=\"dataframe\">\n  <thead>\n    <tr style=\"text-align: right;\">\n      <th></th>\n      <th>color</th>\n      <th>tamaño</th>\n      <th>precio</th>\n      <th>etiqueta_clase</th>\n    </tr>\n  </thead>\n  <tbody>\n    <tr>\n      <th>0</th>\n      <td>verde</td>\n      <td>1</td>\n      <td>10.1</td>\n      <td>1</td>\n    </tr>\n    <tr>\n      <th>1</th>\n      <td>rojo</td>\n      <td>2</td>\n      <td>13.5</td>\n      <td>0</td>\n    </tr>\n    <tr>\n      <th>2</th>\n      <td>azul</td>\n      <td>3</td>\n      <td>15.3</td>\n      <td>1</td>\n    </tr>\n  </tbody>\n</table>\n</div>"
     },
     "execution_count": 14,
     "metadata": {},
     "output_type": "execute_result"
    }
   ],
   "source": [
    "df['etiqueta_clase'] = df['etiqueta_clase'].map(mapeado_clase)\n",
    "df"
   ],
   "metadata": {
    "collapsed": false,
    "ExecuteTime": {
     "end_time": "2024-04-01T10:32:00.076071Z",
     "start_time": "2024-04-01T10:32:00.067574Z"
    }
   },
   "id": "91b9e6753a865ecc",
   "execution_count": 14
  },
  {
   "cell_type": "code",
   "outputs": [
    {
     "data": {
      "text/plain": "   color  tamaño  precio etiqueta_clase\n0  verde       1    10.1         clase2\n1   rojo       2    13.5         clase1\n2   azul       3    15.3         clase2",
      "text/html": "<div>\n<style scoped>\n    .dataframe tbody tr th:only-of-type {\n        vertical-align: middle;\n    }\n\n    .dataframe tbody tr th {\n        vertical-align: top;\n    }\n\n    .dataframe thead th {\n        text-align: right;\n    }\n</style>\n<table border=\"1\" class=\"dataframe\">\n  <thead>\n    <tr style=\"text-align: right;\">\n      <th></th>\n      <th>color</th>\n      <th>tamaño</th>\n      <th>precio</th>\n      <th>etiqueta_clase</th>\n    </tr>\n  </thead>\n  <tbody>\n    <tr>\n      <th>0</th>\n      <td>verde</td>\n      <td>1</td>\n      <td>10.1</td>\n      <td>clase2</td>\n    </tr>\n    <tr>\n      <th>1</th>\n      <td>rojo</td>\n      <td>2</td>\n      <td>13.5</td>\n      <td>clase1</td>\n    </tr>\n    <tr>\n      <th>2</th>\n      <td>azul</td>\n      <td>3</td>\n      <td>15.3</td>\n      <td>clase2</td>\n    </tr>\n  </tbody>\n</table>\n</div>"
     },
     "execution_count": 15,
     "metadata": {},
     "output_type": "execute_result"
    }
   ],
   "source": [
    "inv_mapeado_clase = {v: k for k, v in mapeado_clase.items()}\n",
    "df['etiqueta_clase'] = df['etiqueta_clase'].map(inv_mapeado_clase)\n",
    "df"
   ],
   "metadata": {
    "collapsed": false,
    "ExecuteTime": {
     "end_time": "2024-04-01T10:32:00.085608Z",
     "start_time": "2024-04-01T10:32:00.077088Z"
    }
   },
   "id": "228c11c095c86961",
   "execution_count": 15
  },
  {
   "cell_type": "code",
   "outputs": [
    {
     "data": {
      "text/plain": "array([1, 0, 1])"
     },
     "execution_count": 16,
     "metadata": {},
     "output_type": "execute_result"
    }
   ],
   "source": [
    "from sklearn.preprocessing import LabelEncoder\n",
    "class_le = LabelEncoder()\n",
    "y = class_le.fit_transform(df['etiqueta_clase'].values)\n",
    "y"
   ],
   "metadata": {
    "collapsed": false,
    "ExecuteTime": {
     "end_time": "2024-04-01T10:32:00.092221Z",
     "start_time": "2024-04-01T10:32:00.086659Z"
    }
   },
   "id": "bd644634a5180dcd",
   "execution_count": 16
  },
  {
   "cell_type": "code",
   "outputs": [
    {
     "data": {
      "text/plain": "array(['clase2', 'clase1', 'clase2'], dtype=object)"
     },
     "execution_count": 17,
     "metadata": {},
     "output_type": "execute_result"
    }
   ],
   "source": [
    "class_le.inverse_transform(y)"
   ],
   "metadata": {
    "collapsed": false,
    "ExecuteTime": {
     "end_time": "2024-04-01T10:32:00.098020Z",
     "start_time": "2024-04-01T10:32:00.093249Z"
    }
   },
   "id": "7bb791b7a81696f2",
   "execution_count": 17
  },
  {
   "cell_type": "markdown",
   "source": [
    "### Haciendo codificación one-hot\n",
    "  "
   ],
   "metadata": {
    "collapsed": false
   },
   "id": "794f513e8c48c24b"
  },
  {
   "cell_type": "code",
   "outputs": [
    {
     "data": {
      "text/plain": "array([[2, 1, 10.1],\n       [1, 2, 13.5],\n       [0, 3, 15.3]], dtype=object)"
     },
     "execution_count": 18,
     "metadata": {},
     "output_type": "execute_result"
    }
   ],
   "source": [
    "X = df[['color', 'tamaño', 'precio']].values\n",
    "color_le = LabelEncoder()\n",
    "X[:, 0] = color_le.fit_transform(X[:, 0])\n",
    "X"
   ],
   "metadata": {
    "collapsed": false,
    "ExecuteTime": {
     "end_time": "2024-04-01T10:32:00.105686Z",
     "start_time": "2024-04-01T10:32:00.099207Z"
    }
   },
   "id": "5efadb1dcb12d524",
   "execution_count": 18
  },
  {
   "cell_type": "markdown",
   "source": [
    "* Qué problema tiene la codificación anterior de color?\n",
    "* Qué es la codificación one hot?"
   ],
   "metadata": {
    "collapsed": false
   },
   "id": "bad03c63922a1360"
  },
  {
   "cell_type": "code",
   "outputs": [
    {
     "data": {
      "text/plain": "array([[0., 0., 1.],\n       [0., 1., 0.],\n       [1., 0., 0.]])"
     },
     "execution_count": 19,
     "metadata": {},
     "output_type": "execute_result"
    }
   ],
   "source": [
    "from sklearn.preprocessing import OneHotEncoder\n",
    "\n",
    "X = df[['color', 'tamaño', 'precio']].values\n",
    "color_one = OneHotEncoder()\n",
    "color_one.fit_transform(X[:, 0].reshape(-1, 1)).toarray()"
   ],
   "metadata": {
    "collapsed": false,
    "ExecuteTime": {
     "end_time": "2024-04-01T10:32:00.116076Z",
     "start_time": "2024-04-01T10:32:00.106698Z"
    }
   },
   "id": "9980272f92f9c546",
   "execution_count": 19
  },
  {
   "cell_type": "code",
   "outputs": [
    {
     "data": {
      "text/plain": "array([[ 0. ,  0. ,  1. ,  1. , 10.1],\n       [ 0. ,  1. ,  0. ,  2. , 13.5],\n       [ 1. ,  0. ,  0. ,  3. , 15.3]])"
     },
     "execution_count": 20,
     "metadata": {},
     "output_type": "execute_result"
    }
   ],
   "source": [
    "from sklearn.compose import ColumnTransformer\n",
    "X = df[['color', 'tamaño', 'precio']].values\n",
    "c_transf = ColumnTransformer([\n",
    "    ('onehot', OneHotEncoder(), [0]),\n",
    "    ('nothing', 'passthrough', [1, 2])\n",
    "])\n",
    "c_transf.fit_transform(X).astype(float)"
   ],
   "metadata": {
    "collapsed": false,
    "ExecuteTime": {
     "end_time": "2024-04-01T10:32:00.137683Z",
     "start_time": "2024-04-01T10:32:00.117086Z"
    }
   },
   "id": "87e1e76c2a35da3a",
   "execution_count": 20
  },
  {
   "cell_type": "code",
   "outputs": [
    {
     "data": {
      "text/plain": "   tamaño  precio  color_azul  color_rojo  color_verde\n0       1    10.1       False       False         True\n1       2    13.5       False        True        False\n2       3    15.3        True       False        False",
      "text/html": "<div>\n<style scoped>\n    .dataframe tbody tr th:only-of-type {\n        vertical-align: middle;\n    }\n\n    .dataframe tbody tr th {\n        vertical-align: top;\n    }\n\n    .dataframe thead th {\n        text-align: right;\n    }\n</style>\n<table border=\"1\" class=\"dataframe\">\n  <thead>\n    <tr style=\"text-align: right;\">\n      <th></th>\n      <th>tamaño</th>\n      <th>precio</th>\n      <th>color_azul</th>\n      <th>color_rojo</th>\n      <th>color_verde</th>\n    </tr>\n  </thead>\n  <tbody>\n    <tr>\n      <th>0</th>\n      <td>1</td>\n      <td>10.1</td>\n      <td>False</td>\n      <td>False</td>\n      <td>True</td>\n    </tr>\n    <tr>\n      <th>1</th>\n      <td>2</td>\n      <td>13.5</td>\n      <td>False</td>\n      <td>True</td>\n      <td>False</td>\n    </tr>\n    <tr>\n      <th>2</th>\n      <td>3</td>\n      <td>15.3</td>\n      <td>True</td>\n      <td>False</td>\n      <td>False</td>\n    </tr>\n  </tbody>\n</table>\n</div>"
     },
     "execution_count": 21,
     "metadata": {},
     "output_type": "execute_result"
    }
   ],
   "source": [
    "pd.get_dummies(df[['color', 'tamaño', 'precio']])"
   ],
   "metadata": {
    "collapsed": false,
    "ExecuteTime": {
     "end_time": "2024-04-01T10:32:00.153519Z",
     "start_time": "2024-04-01T10:32:00.137683Z"
    }
   },
   "id": "51d526ef1c1539af",
   "execution_count": 21
  },
  {
   "cell_type": "markdown",
   "source": [
    "* Qué problema aparece cuando hacemos esta codificación?\n",
    "* Cómo se resuelve?"
   ],
   "metadata": {
    "collapsed": false
   },
   "id": "a9e4b49377417051"
  },
  {
   "cell_type": "code",
   "outputs": [
    {
     "data": {
      "text/plain": "   tamaño  precio  color_rojo  color_verde\n0       1    10.1       False         True\n1       2    13.5        True        False\n2       3    15.3       False        False",
      "text/html": "<div>\n<style scoped>\n    .dataframe tbody tr th:only-of-type {\n        vertical-align: middle;\n    }\n\n    .dataframe tbody tr th {\n        vertical-align: top;\n    }\n\n    .dataframe thead th {\n        text-align: right;\n    }\n</style>\n<table border=\"1\" class=\"dataframe\">\n  <thead>\n    <tr style=\"text-align: right;\">\n      <th></th>\n      <th>tamaño</th>\n      <th>precio</th>\n      <th>color_rojo</th>\n      <th>color_verde</th>\n    </tr>\n  </thead>\n  <tbody>\n    <tr>\n      <th>0</th>\n      <td>1</td>\n      <td>10.1</td>\n      <td>False</td>\n      <td>True</td>\n    </tr>\n    <tr>\n      <th>1</th>\n      <td>2</td>\n      <td>13.5</td>\n      <td>True</td>\n      <td>False</td>\n    </tr>\n    <tr>\n      <th>2</th>\n      <td>3</td>\n      <td>15.3</td>\n      <td>False</td>\n      <td>False</td>\n    </tr>\n  </tbody>\n</table>\n</div>"
     },
     "execution_count": 22,
     "metadata": {},
     "output_type": "execute_result"
    }
   ],
   "source": [
    "pd.get_dummies(df[['color', 'tamaño', 'precio']],\n",
    "               drop_first=True)"
   ],
   "metadata": {
    "collapsed": false,
    "ExecuteTime": {
     "end_time": "2024-04-01T10:32:00.164840Z",
     "start_time": "2024-04-01T10:32:00.153519Z"
    }
   },
   "id": "8e38e2384e1cad8b",
   "execution_count": 22
  },
  {
   "cell_type": "code",
   "outputs": [
    {
     "data": {
      "text/plain": "array([[ 0. ,  1. ,  1. , 10.1],\n       [ 1. ,  0. ,  2. , 13.5],\n       [ 0. ,  0. ,  3. , 15.3]])"
     },
     "execution_count": 23,
     "metadata": {},
     "output_type": "execute_result"
    }
   ],
   "source": [
    "color_ohe = OneHotEncoder(categories='auto', drop = 'first')\n",
    "c_transf = ColumnTransformer([\n",
    "    ('onehot', color_ohe, [0]),\n",
    "    ('nada', 'passthrough', [1, 2])\n",
    "])\n",
    "c_transf.fit_transform(X).astype(float)"
   ],
   "metadata": {
    "collapsed": false,
    "ExecuteTime": {
     "end_time": "2024-04-01T10:32:00.175164Z",
     "start_time": "2024-04-01T10:32:00.165990Z"
    }
   },
   "id": "643254eee5a0184b",
   "execution_count": 23
  },
  {
   "cell_type": "markdown",
   "source": [
    "* Qué otros esquemas existen para la codificación de variables nominales?\n",
    "\n",
    "Leer [codificacion](https://contrib.scikit-learn.org/category_encoders/)\n",
    "\n",
    "### Opcional: codificación de variables ordinales\n",
    "\n",
    "* Por qué es opcional?\n"
   ],
   "metadata": {
    "collapsed": false
   },
   "id": "fa279c804aed93e"
  },
  {
   "cell_type": "markdown",
   "source": [],
   "metadata": {
    "collapsed": false
   },
   "id": "616aae3802a0f7c5"
  },
  {
   "cell_type": "code",
   "outputs": [],
   "source": [
    "df = pd.DataFrame([\n",
    "    ['verde', 'M', 10.1, 'clase2'],\n",
    "    ['rojo', 'L', 13.5, 'clase1'],\n",
    "    ['azul', 'XL', 15.3, 'clase2']])\n",
    "df.columns = ['color', 'tamaño', 'precio', 'etiqueta_clase']"
   ],
   "metadata": {
    "collapsed": false,
    "ExecuteTime": {
     "end_time": "2024-04-01T10:32:00.181976Z",
     "start_time": "2024-04-01T10:32:00.176187Z"
    }
   },
   "id": "90d9b9e827cc7161",
   "execution_count": 24
  },
  {
   "cell_type": "code",
   "outputs": [
    {
     "data": {
      "text/plain": "   color  precio etiqueta_clase  x > M  x > L\n0  verde    10.1         clase2      0      0\n1   rojo    13.5         clase1      1      0\n2   azul    15.3         clase2      1      1",
      "text/html": "<div>\n<style scoped>\n    .dataframe tbody tr th:only-of-type {\n        vertical-align: middle;\n    }\n\n    .dataframe tbody tr th {\n        vertical-align: top;\n    }\n\n    .dataframe thead th {\n        text-align: right;\n    }\n</style>\n<table border=\"1\" class=\"dataframe\">\n  <thead>\n    <tr style=\"text-align: right;\">\n      <th></th>\n      <th>color</th>\n      <th>precio</th>\n      <th>etiqueta_clase</th>\n      <th>x &gt; M</th>\n      <th>x &gt; L</th>\n    </tr>\n  </thead>\n  <tbody>\n    <tr>\n      <th>0</th>\n      <td>verde</td>\n      <td>10.1</td>\n      <td>clase2</td>\n      <td>0</td>\n      <td>0</td>\n    </tr>\n    <tr>\n      <th>1</th>\n      <td>rojo</td>\n      <td>13.5</td>\n      <td>clase1</td>\n      <td>1</td>\n      <td>0</td>\n    </tr>\n    <tr>\n      <th>2</th>\n      <td>azul</td>\n      <td>15.3</td>\n      <td>clase2</td>\n      <td>1</td>\n      <td>1</td>\n    </tr>\n  </tbody>\n</table>\n</div>"
     },
     "execution_count": 25,
     "metadata": {},
     "output_type": "execute_result"
    }
   ],
   "source": [
    "df['x > M'] = df['tamaño'].apply(\n",
    "    lambda x: 1 if x in {'L', 'XL'} else 0)\n",
    "df['x > L'] = df['tamaño'].apply(\n",
    "    lambda x: 1 if x == 'XL' else 0)\n",
    "del df['tamaño']\n",
    "df"
   ],
   "metadata": {
    "collapsed": false,
    "ExecuteTime": {
     "end_time": "2024-04-01T10:32:00.194299Z",
     "start_time": "2024-04-01T10:32:00.182983Z"
    }
   },
   "id": "22284ec6f54ee0f9",
   "execution_count": 25
  },
  {
   "cell_type": "markdown",
   "source": [
    "## Dividir un conjunto de datos en entrenamiento y prueba\n",
    "\n",
    "Se usa el conjunto de datos de vino que consiste en 178 ejemplos de vino con 13 variables describiendo sus propiedades químicas.\n",
    "\n"
   ],
   "metadata": {
    "collapsed": false
   },
   "id": "611c2d838375b830"
  },
  {
   "cell_type": "code",
   "outputs": [],
   "source": [
    "df_wine = pd.read_csv('https://archive.ics.uci.edu/'\n",
    "                      'ml/machine-learning-databases/'\n",
    "                      'wine/wine.data', header = None)"
   ],
   "metadata": {
    "collapsed": false,
    "ExecuteTime": {
     "end_time": "2024-04-01T10:32:00.602554Z",
     "start_time": "2024-04-01T10:32:00.195327Z"
    }
   },
   "id": "3943fcf026049dd2",
   "execution_count": 26
  },
  {
   "cell_type": "code",
   "outputs": [
    {
     "name": "stdout",
     "output_type": "stream",
     "text": [
      "Etiquetas de clase [1 2 3]\n"
     ]
    },
    {
     "data": {
      "text/plain": "   etiqueta_clase  Alcohol  Malic acid   Ash  Alcalinity of ash  Magnesium  \\\n0               1    14.23        1.71  2.43               15.6        127   \n1               1    13.20        1.78  2.14               11.2        100   \n2               1    13.16        2.36  2.67               18.6        101   \n3               1    14.37        1.95  2.50               16.8        113   \n4               1    13.24        2.59  2.87               21.0        118   \n\n   Total phenols  Flavanoids  Nonflavanoid phenols  proanthocyanins  \\\n0           2.80        3.06                  0.28             2.29   \n1           2.65        2.76                  0.26             1.28   \n2           2.80        3.24                  0.30             2.81   \n3           3.85        3.49                  0.24             2.18   \n4           2.80        2.69                  0.39             1.82   \n\n   Color intensity   Hue  0D280/OD315 of diluted wines  Proline  \n0             5.64  1.04                          3.92     1065  \n1             4.38  1.05                          3.40     1050  \n2             5.68  1.03                          3.17     1185  \n3             7.80  0.86                          3.45     1480  \n4             4.32  1.04                          2.93      735  ",
      "text/html": "<div>\n<style scoped>\n    .dataframe tbody tr th:only-of-type {\n        vertical-align: middle;\n    }\n\n    .dataframe tbody tr th {\n        vertical-align: top;\n    }\n\n    .dataframe thead th {\n        text-align: right;\n    }\n</style>\n<table border=\"1\" class=\"dataframe\">\n  <thead>\n    <tr style=\"text-align: right;\">\n      <th></th>\n      <th>etiqueta_clase</th>\n      <th>Alcohol</th>\n      <th>Malic acid</th>\n      <th>Ash</th>\n      <th>Alcalinity of ash</th>\n      <th>Magnesium</th>\n      <th>Total phenols</th>\n      <th>Flavanoids</th>\n      <th>Nonflavanoid phenols</th>\n      <th>proanthocyanins</th>\n      <th>Color intensity</th>\n      <th>Hue</th>\n      <th>0D280/OD315 of diluted wines</th>\n      <th>Proline</th>\n    </tr>\n  </thead>\n  <tbody>\n    <tr>\n      <th>0</th>\n      <td>1</td>\n      <td>14.23</td>\n      <td>1.71</td>\n      <td>2.43</td>\n      <td>15.6</td>\n      <td>127</td>\n      <td>2.80</td>\n      <td>3.06</td>\n      <td>0.28</td>\n      <td>2.29</td>\n      <td>5.64</td>\n      <td>1.04</td>\n      <td>3.92</td>\n      <td>1065</td>\n    </tr>\n    <tr>\n      <th>1</th>\n      <td>1</td>\n      <td>13.20</td>\n      <td>1.78</td>\n      <td>2.14</td>\n      <td>11.2</td>\n      <td>100</td>\n      <td>2.65</td>\n      <td>2.76</td>\n      <td>0.26</td>\n      <td>1.28</td>\n      <td>4.38</td>\n      <td>1.05</td>\n      <td>3.40</td>\n      <td>1050</td>\n    </tr>\n    <tr>\n      <th>2</th>\n      <td>1</td>\n      <td>13.16</td>\n      <td>2.36</td>\n      <td>2.67</td>\n      <td>18.6</td>\n      <td>101</td>\n      <td>2.80</td>\n      <td>3.24</td>\n      <td>0.30</td>\n      <td>2.81</td>\n      <td>5.68</td>\n      <td>1.03</td>\n      <td>3.17</td>\n      <td>1185</td>\n    </tr>\n    <tr>\n      <th>3</th>\n      <td>1</td>\n      <td>14.37</td>\n      <td>1.95</td>\n      <td>2.50</td>\n      <td>16.8</td>\n      <td>113</td>\n      <td>3.85</td>\n      <td>3.49</td>\n      <td>0.24</td>\n      <td>2.18</td>\n      <td>7.80</td>\n      <td>0.86</td>\n      <td>3.45</td>\n      <td>1480</td>\n    </tr>\n    <tr>\n      <th>4</th>\n      <td>1</td>\n      <td>13.24</td>\n      <td>2.59</td>\n      <td>2.87</td>\n      <td>21.0</td>\n      <td>118</td>\n      <td>2.80</td>\n      <td>2.69</td>\n      <td>0.39</td>\n      <td>1.82</td>\n      <td>4.32</td>\n      <td>1.04</td>\n      <td>2.93</td>\n      <td>735</td>\n    </tr>\n  </tbody>\n</table>\n</div>"
     },
     "execution_count": 29,
     "metadata": {},
     "output_type": "execute_result"
    }
   ],
   "source": [
    "df_wine.columns = ['etiqueta_clase', 'Alcohol', 'Malic acid', 'Ash', 'Alcalinity of ash', 'Magnesium', 'Total phenols', 'Flavanoids',\n",
    "                   'Nonflavanoid phenols', 'proanthocyanins', 'Color intensity', 'Hue', '0D280/OD315 of diluted wines', 'Proline']\n",
    "print('Etiquetas de clase', np.unique(df_wine['etiqueta_clase']))\n",
    "df_wine.head()"
   ],
   "metadata": {
    "collapsed": false,
    "ExecuteTime": {
     "end_time": "2024-04-01T10:36:01.524909Z",
     "start_time": "2024-04-01T10:36:01.512548Z"
    }
   },
   "id": "1e85f02759d97339",
   "execution_count": 29
  },
  {
   "cell_type": "code",
   "outputs": [],
   "source": [
    "from sklearn.model_selection import train_test_split\n",
    "\n",
    "X, y = df_wine.iloc[:, 1:].values, df_wine.iloc[:, 0].values\n",
    "X_train, X_test, y_train, y_test =\\\n",
    "    train_test_split(X, y,\n",
    "                     test_size = 0.3,\n",
    "                     random_state = 0,\n",
    "                     stratify = y)"
   ],
   "metadata": {
    "collapsed": false,
    "ExecuteTime": {
     "end_time": "2024-04-01T10:38:28.374794Z",
     "start_time": "2024-04-01T10:38:28.364595Z"
    }
   },
   "id": "bbdd69d41e77acf1",
   "execution_count": 30
  },
  {
   "cell_type": "markdown",
   "source": [
    "* Para qué se divide en entrenamiento y prueba?\n",
    "* Qué afecta el tamaño del conjunto de prueba?\n",
    "\n",
    "## LLevando todas las variables a la misma escala\n",
    "\n",
    "* Para qué sirve escalar las variables?\n",
    "* Qué algoritmos no lo necesitan?\n",
    "* Qué es normalización y estandarización?"
   ],
   "metadata": {
    "collapsed": false
   },
   "id": "321ccce4029ea498"
  },
  {
   "cell_type": "code",
   "outputs": [],
   "source": [
    "from sklearn.preprocessing import MinMaxScaler\n",
    "mms = MinMaxScaler()\n",
    "X_train_norm = mms.fit_transform(X_train)\n",
    "X_test_norm = mms.transform(X_test)"
   ],
   "metadata": {
    "collapsed": false,
    "ExecuteTime": {
     "end_time": "2024-04-01T10:44:56.283715Z",
     "start_time": "2024-04-01T10:44:56.278199Z"
    }
   },
   "id": "7befb7e78c20ffbd",
   "execution_count": 31
  },
  {
   "cell_type": "markdown",
   "source": [
    "* Cuando es útil la normalización?\n",
    "* Cuando es mejor la estandarización?\n"
   ],
   "metadata": {
    "collapsed": false
   },
   "id": "6eb8849b4c62299a"
  },
  {
   "cell_type": "code",
   "outputs": [
    {
     "name": "stdout",
     "output_type": "stream",
     "text": [
      "Estandarizado: [-1.46385011 -0.87831007 -0.29277002  0.29277002  0.87831007  1.46385011]\n",
      "Normalizado: [0.  0.2 0.4 0.6 0.8 1. ]\n"
     ]
    }
   ],
   "source": [
    "ej = np.array([0, 1, 2, 3, 4, 5])\n",
    "print('Estandarizado:', (ej - ej.mean()) / ej.std())\n",
    "print('Normalizado:', (ej - ej.min()) / (ej.max() - ej.min()))"
   ],
   "metadata": {
    "collapsed": false,
    "ExecuteTime": {
     "end_time": "2024-04-01T10:48:31.729647Z",
     "start_time": "2024-04-01T10:48:31.725719Z"
    }
   },
   "id": "d52a08296b1707eb",
   "execution_count": 32
  },
  {
   "cell_type": "code",
   "outputs": [],
   "source": [
    "from sklearn.preprocessing import StandardScaler\n",
    "stdsc = StandardScaler()\n",
    "X_train_std = stdsc.fit_transform(X_train)\n",
    "X_test_std = stdsc.transform(X_test)"
   ],
   "metadata": {
    "collapsed": false,
    "ExecuteTime": {
     "end_time": "2024-04-01T10:49:45.549172Z",
     "start_time": "2024-04-01T10:49:45.544167Z"
    }
   },
   "id": "8178854e2092bc8a",
   "execution_count": 33
  },
  {
   "cell_type": "markdown",
   "source": [
    "Leer [Robust Scaler](https://scikit-learn.org/stable/modules/generated/sklearn.preprocessing.RobustScaler.html)\n",
    "\n",
    "* Cómo funciona y en qué casos es mejor usarlo?\n",
    "\n",
    "## Seleccionando variables importantes\n",
    "\n",
    "* Qué es sobre ajuste?\n",
    "* Cuales son las razones y las soluciones al sobreajuste?\n",
    "\n",
    "\n",
    "### Regularización L1 y L2 como penalidad en contra de la complejidad del modelo\n",
    "\n",
    "* Qué son estas regularizaciones y cómo se definen?\n",
    "* Como funcionan?\n",
    "* Cuando son útiles?\n",
    "* Explicalos de forma geométrica, en qué se diferencian?\n"
   ],
   "metadata": {
    "collapsed": false
   },
   "id": "28ee7c3b0252a3a0"
  },
  {
   "cell_type": "code",
   "outputs": [
    {
     "data": {
      "text/plain": "LogisticRegression(multi_class='ovr', penalty='l1', solver='liblinear')",
      "text/html": "<style>#sk-container-id-1 {color: black;}#sk-container-id-1 pre{padding: 0;}#sk-container-id-1 div.sk-toggleable {background-color: white;}#sk-container-id-1 label.sk-toggleable__label {cursor: pointer;display: block;width: 100%;margin-bottom: 0;padding: 0.3em;box-sizing: border-box;text-align: center;}#sk-container-id-1 label.sk-toggleable__label-arrow:before {content: \"▸\";float: left;margin-right: 0.25em;color: #696969;}#sk-container-id-1 label.sk-toggleable__label-arrow:hover:before {color: black;}#sk-container-id-1 div.sk-estimator:hover label.sk-toggleable__label-arrow:before {color: black;}#sk-container-id-1 div.sk-toggleable__content {max-height: 0;max-width: 0;overflow: hidden;text-align: left;background-color: #f0f8ff;}#sk-container-id-1 div.sk-toggleable__content pre {margin: 0.2em;color: black;border-radius: 0.25em;background-color: #f0f8ff;}#sk-container-id-1 input.sk-toggleable__control:checked~div.sk-toggleable__content {max-height: 200px;max-width: 100%;overflow: auto;}#sk-container-id-1 input.sk-toggleable__control:checked~label.sk-toggleable__label-arrow:before {content: \"▾\";}#sk-container-id-1 div.sk-estimator input.sk-toggleable__control:checked~label.sk-toggleable__label {background-color: #d4ebff;}#sk-container-id-1 div.sk-label input.sk-toggleable__control:checked~label.sk-toggleable__label {background-color: #d4ebff;}#sk-container-id-1 input.sk-hidden--visually {border: 0;clip: rect(1px 1px 1px 1px);clip: rect(1px, 1px, 1px, 1px);height: 1px;margin: -1px;overflow: hidden;padding: 0;position: absolute;width: 1px;}#sk-container-id-1 div.sk-estimator {font-family: monospace;background-color: #f0f8ff;border: 1px dotted black;border-radius: 0.25em;box-sizing: border-box;margin-bottom: 0.5em;}#sk-container-id-1 div.sk-estimator:hover {background-color: #d4ebff;}#sk-container-id-1 div.sk-parallel-item::after {content: \"\";width: 100%;border-bottom: 1px solid gray;flex-grow: 1;}#sk-container-id-1 div.sk-label:hover label.sk-toggleable__label {background-color: #d4ebff;}#sk-container-id-1 div.sk-serial::before {content: \"\";position: absolute;border-left: 1px solid gray;box-sizing: border-box;top: 0;bottom: 0;left: 50%;z-index: 0;}#sk-container-id-1 div.sk-serial {display: flex;flex-direction: column;align-items: center;background-color: white;padding-right: 0.2em;padding-left: 0.2em;position: relative;}#sk-container-id-1 div.sk-item {position: relative;z-index: 1;}#sk-container-id-1 div.sk-parallel {display: flex;align-items: stretch;justify-content: center;background-color: white;position: relative;}#sk-container-id-1 div.sk-item::before, #sk-container-id-1 div.sk-parallel-item::before {content: \"\";position: absolute;border-left: 1px solid gray;box-sizing: border-box;top: 0;bottom: 0;left: 50%;z-index: -1;}#sk-container-id-1 div.sk-parallel-item {display: flex;flex-direction: column;z-index: 1;position: relative;background-color: white;}#sk-container-id-1 div.sk-parallel-item:first-child::after {align-self: flex-end;width: 50%;}#sk-container-id-1 div.sk-parallel-item:last-child::after {align-self: flex-start;width: 50%;}#sk-container-id-1 div.sk-parallel-item:only-child::after {width: 0;}#sk-container-id-1 div.sk-dashed-wrapped {border: 1px dashed gray;margin: 0 0.4em 0.5em 0.4em;box-sizing: border-box;padding-bottom: 0.4em;background-color: white;}#sk-container-id-1 div.sk-label label {font-family: monospace;font-weight: bold;display: inline-block;line-height: 1.2em;}#sk-container-id-1 div.sk-label-container {text-align: center;}#sk-container-id-1 div.sk-container {/* jupyter's `normalize.less` sets `[hidden] { display: none; }` but bootstrap.min.css set `[hidden] { display: none !important; }` so we also need the `!important` here to be able to override the default hidden behavior on the sphinx rendered scikit-learn.org. See: https://github.com/scikit-learn/scikit-learn/issues/21755 */display: inline-block !important;position: relative;}#sk-container-id-1 div.sk-text-repr-fallback {display: none;}</style><div id=\"sk-container-id-1\" class=\"sk-top-container\"><div class=\"sk-text-repr-fallback\"><pre>LogisticRegression(multi_class=&#x27;ovr&#x27;, penalty=&#x27;l1&#x27;, solver=&#x27;liblinear&#x27;)</pre><b>In a Jupyter environment, please rerun this cell to show the HTML representation or trust the notebook. <br />On GitHub, the HTML representation is unable to render, please try loading this page with nbviewer.org.</b></div><div class=\"sk-container\" hidden><div class=\"sk-item\"><div class=\"sk-estimator sk-toggleable\"><input class=\"sk-toggleable__control sk-hidden--visually\" id=\"sk-estimator-id-1\" type=\"checkbox\" checked><label for=\"sk-estimator-id-1\" class=\"sk-toggleable__label sk-toggleable__label-arrow\">LogisticRegression</label><div class=\"sk-toggleable__content\"><pre>LogisticRegression(multi_class=&#x27;ovr&#x27;, penalty=&#x27;l1&#x27;, solver=&#x27;liblinear&#x27;)</pre></div></div></div></div></div>"
     },
     "execution_count": 34,
     "metadata": {},
     "output_type": "execute_result"
    }
   ],
   "source": [
    "from sklearn.linear_model import LogisticRegression\n",
    "LogisticRegression(penalty = 'l1',\n",
    "                   solver = 'liblinear',\n",
    "                   multi_class = 'ovr')"
   ],
   "metadata": {
    "collapsed": false,
    "ExecuteTime": {
     "end_time": "2024-04-01T11:02:54.338224Z",
     "start_time": "2024-04-01T11:02:54.332253Z"
    }
   },
   "id": "3ed6c639740ed981",
   "execution_count": 34
  },
  {
   "cell_type": "code",
   "outputs": [
    {
     "name": "stdout",
     "output_type": "stream",
     "text": [
      "Exactitud de entrenamiento: 1.0\n",
      "Exactitud de prueba: 1.0\n"
     ]
    }
   ],
   "source": [
    "lr = LogisticRegression(penalty = 'l1',\n",
    "                        C = 1.0,\n",
    "                        solver = 'liblinear',\n",
    "                        multi_class = 'ovr')\n",
    "lr.fit(X_train_std, y_train)\n",
    "print('Exactitud de entrenamiento:', lr.score(X_train_std, y_train))\n",
    "print('Exactitud de prueba:', lr.score(X_test_std, y_test))"
   ],
   "metadata": {
    "collapsed": false,
    "ExecuteTime": {
     "end_time": "2024-04-01T11:04:50.190765Z",
     "start_time": "2024-04-01T11:04:50.130276Z"
    }
   },
   "id": "7f9be8cf07177f7c",
   "execution_count": 35
  },
  {
   "cell_type": "code",
   "outputs": [
    {
     "data": {
      "text/plain": "array([-1.26309992, -1.21577868, -2.37070648])"
     },
     "execution_count": 36,
     "metadata": {},
     "output_type": "execute_result"
    }
   ],
   "source": [
    "lr.intercept_"
   ],
   "metadata": {
    "collapsed": false,
    "ExecuteTime": {
     "end_time": "2024-04-01T11:05:08.936922Z",
     "start_time": "2024-04-01T11:05:08.932713Z"
    }
   },
   "id": "c4b082d9467bcd6c",
   "execution_count": 36
  },
  {
   "cell_type": "code",
   "outputs": [
    {
     "data": {
      "text/plain": "array([[ 1.24553781,  0.18060623,  0.74227105, -1.16001866,  0.        ,\n         0.        ,  1.1740289 ,  0.        ,  0.        ,  0.        ,\n         0.        ,  0.54240505,  2.51126438],\n       [-1.53773196, -0.38666032, -0.9953314 ,  0.36449795, -0.05935819,\n         0.        ,  0.66781087,  0.        ,  0.        , -1.93329828,\n         1.23518443,  0.        , -2.23223191],\n       [ 0.13579288,  0.16884891,  0.35727081,  0.        ,  0.        ,\n         0.        , -2.43753967,  0.        ,  0.        ,  1.56333447,\n        -0.8183009 , -0.49359014,  0.        ]])"
     },
     "execution_count": 37,
     "metadata": {},
     "output_type": "execute_result"
    }
   ],
   "source": [
    "lr.coef_"
   ],
   "metadata": {
    "collapsed": false,
    "ExecuteTime": {
     "end_time": "2024-04-01T11:05:32.983795Z",
     "start_time": "2024-04-01T11:05:32.979356Z"
    }
   },
   "id": "94d8ca26ce610f85",
   "execution_count": 37
  },
  {
   "cell_type": "markdown",
   "source": [
    "* Como es la fórmula de estos interceptos y coeficientes?\n",
    "* Qué pasa con los coeficientes si aumentamos el parámetro de regularización?"
   ],
   "metadata": {
    "collapsed": false
   },
   "id": "9eaa616529a42d82"
  },
  {
   "cell_type": "code",
   "outputs": [
    {
     "data": {
      "text/plain": "<Figure size 640x480 with 1 Axes>",
      "image/png": "[encoded data removed]"
     },
     "metadata": {},
     "output_type": "display_data"
    }
   ],
   "source": [
    "import matplotlib.pyplot as plt\n",
    "fig = plt.figure()\n",
    "ax = plt.subplot(111)\n",
    "colors = ['blue', 'green', 'red', 'cyan', 'magenta', 'yellow', 'black', 'pink',\n",
    "          'lightgreen', 'lightblue', 'gray', 'indigo', 'orange']\n",
    "weights, params = [], []\n",
    "for c in np.arange(-4., 6.):\n",
    "    lr = LogisticRegression(penalty = 'l1', C = 10.**c,\n",
    "                            solver = 'liblinear',\n",
    "                            multi_class = 'ovr', random_state = 0)\n",
    "    lr.fit(X_train_std, y_train)\n",
    "    weights.append(lr.coef_[1])\n",
    "    params.append(10**c)\n",
    "weights = np.array(weights)\n",
    "for column, color in zip(range(weights.shape[1]), colors):\n",
    "    plt.plot(params, weights[:, column],\n",
    "             label = df_wine.columns[column + 1],\n",
    "             color = color)\n",
    "plt.axhline(0, color = 'black', linestyle = '--', linewidth = 3)\n",
    "plt.xlim([10**(-5), 10**5])\n",
    "plt.ylabel('Pesos de coeficientes')\n",
    "plt.xlabel('C (Inverso de la fuerza de regularización)')\n",
    "plt.xscale('log')\n",
    "plt.legend(loc = 'upper left')\n",
    "ax.legend(loc = 'upper center',\n",
    "          bbox_to_anchor = (1.38, 1.03),\n",
    "          ncol = 1, fancybox = True)\n",
    "plt.show()"
   ],
   "metadata": {
    "collapsed": false,
    "ExecuteTime": {
     "end_time": "2024-04-01T11:16:23.404769Z",
     "start_time": "2024-04-01T11:16:22.385784Z"
    }
   },
   "id": "112e41ab39c620b6",
   "execution_count": 38
  },
  {
   "cell_type": "markdown",
   "source": [
    "* Qué podemos decir de esta gráfica?\n",
    "\n",
    "### Algoritmo de selección de variables secuencial\n",
    "\n",
    "* Qué es la reducción de dimensionalidad?\n",
    "* Qué es selección de variables y extracción de variables?\n",
    "* Qué es la selección de variables secuencial?\n",
    "* Qué es el algoritmo SBS (Sequential backward selection)\n",
    "* Qué es un algoritmo de busqueda greedy y exhaustivo?\n",
    "* Explicar el algoritmo SBS"
   ],
   "metadata": {
    "collapsed": false
   },
   "id": "c846ca34f182d42d"
  },
  {
   "cell_type": "code",
   "outputs": [],
   "source": [
    "from sklearn.base import clone\n",
    "from itertools import combinations\n",
    "from sklearn.metrics import accuracy_score\n",
    "\n",
    "class SBS:\n",
    "    def __init__(self, estimator, k_features,\n",
    "                 scoring = accuracy_score,\n",
    "                 test_size = 0.25, random_state = 1):\n",
    "        self.scoring = scoring\n",
    "        self.estimator = clone(estimator)\n",
    "        self.k_features = k_features\n",
    "        self.test_size = test_size\n",
    "        self.random_state = random_state\n",
    "    def fit(self, X, y):\n",
    "        X_train, X_test, y_train, y_test =\\\n",
    "            train_test_split(X, y, test_size = self.test_size,\n",
    "                             random_state = self.random_state)\n",
    "        \n",
    "        dim = X_train.shape[1]\n",
    "        self.indices_ = tuple(range(dim))\n",
    "        self.subsets_ = [self.indices_]\n",
    "        score = self._calc_score(X_train, y_train,\n",
    "                                 X_test, y_test, self.indices_)\n",
    "        \n",
    "        self.scores_ = [score]\n",
    "        while dim > self.k_features:\n",
    "            scores = []\n",
    "            subsets = []\n",
    "            \n",
    "            for p in combinations(self.indices_, r = dim -1):\n",
    "                score = self._calc_score(X_train, y_train,\n",
    "                                         X_test, y_test, p)\n",
    "                scores.append(score)\n",
    "                subsets.append(p)\n",
    "            \n",
    "            best = np.argmax(scores)\n",
    "            self.indices_ = subsets[best]\n",
    "            self.subsets_.append(self.indices_)\n",
    "            dim -= 1\n",
    "            \n",
    "            self.scores_.append(scores[best])\n",
    "        self.k_score_ = self.scores_[-1]\n",
    "        \n",
    "        return self\n",
    "    \n",
    "    def transform(self, X):\n",
    "        return X[:, self.indices_]\n",
    "    \n",
    "    def _calc_score(self, X_train, y_train, X_test, y_test, indices):\n",
    "        self.estimator.fit(X_train[:, indices], y_train)\n",
    "        y_pred = self.estimator.predict(X_test[:, indices])\n",
    "        score = self.scoring(y_test, y_pred)\n",
    "        return score"
   ],
   "metadata": {
    "collapsed": false,
    "ExecuteTime": {
     "end_time": "2024-04-01T13:17:58.428236Z",
     "start_time": "2024-04-01T13:17:58.421357Z"
    }
   },
   "id": "b20681382ea38a65",
   "execution_count": 44
  },
  {
   "cell_type": "markdown",
   "source": [
    "* Explicar paso por paso el código anterior"
   ],
   "metadata": {
    "collapsed": false
   },
   "id": "7c6a5900c2f5946f"
  },
  {
   "cell_type": "code",
   "outputs": [
    {
     "data": {
      "text/plain": "<__main__.SBS at 0x1f8c73d7690>"
     },
     "execution_count": 40,
     "metadata": {},
     "output_type": "execute_result"
    }
   ],
   "source": [
    "from sklearn.neighbors import KNeighborsClassifier\n",
    "knn = KNeighborsClassifier(n_neighbors=5)\n",
    "sbs = SBS(knn, k_features = 1)\n",
    "sbs.fit(X_train_std, y_train)"
   ],
   "metadata": {
    "collapsed": false,
    "ExecuteTime": {
     "end_time": "2024-04-01T13:15:50.724204Z",
     "start_time": "2024-04-01T13:15:50.486866Z"
    }
   },
   "id": "1aaa024eb50a953a",
   "execution_count": 40
  },
  {
   "cell_type": "code",
   "outputs": [
    {
     "data": {
      "text/plain": "<Figure size 640x480 with 1 Axes>",
      "image/png": "[encoded data removed]"
     },
     "metadata": {},
     "output_type": "display_data"
    }
   ],
   "source": [
    "k_feat = [len(k) for k in sbs.subsets_]\n",
    "plt.plot(k_feat, sbs.scores_, marker = 'o')\n",
    "plt.ylim([0.7, 1.02])\n",
    "plt.ylabel('Exactitud')\n",
    "plt.xlabel('Numero de variables')\n",
    "plt.grid()\n",
    "plt.tight_layout()\n",
    "plt.show()"
   ],
   "metadata": {
    "collapsed": false,
    "ExecuteTime": {
     "end_time": "2024-04-01T13:19:05.475307Z",
     "start_time": "2024-04-01T13:19:05.366348Z"
    }
   },
   "id": "478874532a4109bb",
   "execution_count": 45
  },
  {
   "cell_type": "markdown",
   "source": [
    "* Qué es la maldición de la dimensionalidad?"
   ],
   "metadata": {
    "collapsed": false
   },
   "id": "435e6229cf8b6d3b"
  },
  {
   "cell_type": "code",
   "outputs": [
    {
     "name": "stdout",
     "output_type": "stream",
     "text": [
      "Index(['Alcohol', 'Malic acid', '0D280/OD315 of diluted wines'], dtype='object')\n"
     ]
    }
   ],
   "source": [
    "k3 = list(sbs.subsets_[10])\n",
    "print(df_wine.columns[1:][k3])"
   ],
   "metadata": {
    "collapsed": false,
    "ExecuteTime": {
     "end_time": "2024-04-01T13:20:30.778042Z",
     "start_time": "2024-04-01T13:20:30.774607Z"
    }
   },
   "id": "677dbe213335c5c8",
   "execution_count": 46
  },
  {
   "cell_type": "code",
   "outputs": [
    {
     "name": "stdout",
     "output_type": "stream",
     "text": [
      "Exactitud de entrenamiento: 0.967741935483871\n",
      "Exactitud de prueba: 0.9629629629629629\n"
     ]
    }
   ],
   "source": [
    "knn.fit(X_train_std, y_train)\n",
    "print('Exactitud de entrenamiento:', knn.score(X_train_std, y_train))\n",
    "print('Exactitud de prueba:', knn.score(X_test_std, y_test))"
   ],
   "metadata": {
    "collapsed": false,
    "ExecuteTime": {
     "end_time": "2024-04-01T13:22:01.034862Z",
     "start_time": "2024-04-01T13:22:01.021034Z"
    }
   },
   "id": "da050ef8d0370eea",
   "execution_count": 47
  },
  {
   "cell_type": "code",
   "outputs": [
    {
     "name": "stdout",
     "output_type": "stream",
     "text": [
      "Exactitud de entrenamiento: 0.9516129032258065\n",
      "Exactitud de prueba: 0.9259259259259259\n"
     ]
    }
   ],
   "source": [
    "knn.fit(X_train_std[:, k3], y_train)\n",
    "print('Exactitud de entrenamiento:', knn.score(X_train_std[:, k3], y_train))\n",
    "print('Exactitud de prueba:', knn.score(X_test_std[:, k3], y_test))"
   ],
   "metadata": {
    "collapsed": false,
    "ExecuteTime": {
     "end_time": "2024-04-01T13:23:50.441345Z",
     "start_time": "2024-04-01T13:23:50.427627Z"
    }
   },
   "id": "a373b76ba7ed627a",
   "execution_count": 48
  },
  {
   "cell_type": "markdown",
   "source": [
    "* Qué podemos concluir?\n",
    "* Qué otro métodos hay para la selección de variables?\n",
    "\n",
    "[Seleccion de variables](http://scikit-learn.org/stable/modules/feature_selection.html)\n",
    "\n",
    "### Midiendo la importancia de las variables con random forest\n",
    "\n",
    "* Como funciona este método?"
   ],
   "metadata": {
    "collapsed": false
   },
   "id": "6854829420988145"
  },
  {
   "cell_type": "code",
   "outputs": [
    {
     "name": "stdout",
     "output_type": "stream",
     "text": [
      " 1) Proline                        0.185453\n",
      " 2) Flavanoids                     0.174751\n",
      " 3) Color intensity                0.143920\n",
      " 4) 0D280/OD315 of diluted wines   0.136162\n",
      " 5) Alcohol                        0.118529\n",
      " 6) Hue                            0.058739\n",
      " 7) Total phenols                  0.050872\n",
      " 8) Magnesium                      0.031357\n",
      " 9) Malic acid                     0.025648\n",
      "10) proanthocyanins                0.025570\n",
      "11) Alcalinity of ash              0.022366\n",
      "12) Nonflavanoid phenols           0.013354\n",
      "13) Ash                            0.013279\n"
     ]
    },
    {
     "data": {
      "text/plain": "<Figure size 640x480 with 1 Axes>",
      "image/png": "[encoded data removed]"
     },
     "metadata": {},
     "output_type": "display_data"
    }
   ],
   "source": [
    "from sklearn.ensemble import RandomForestClassifier\n",
    "\n",
    "feat_labels = df_wine.columns[1:]\n",
    "forest = RandomForestClassifier(n_estimators = 500,\n",
    "                                random_state = 1)\n",
    "forest.fit(X_train, y_train)\n",
    "importances = forest.feature_importances_\n",
    "indices = np.argsort(importances)[::-1]\n",
    "for f in range(X_train.shape[1]):\n",
    "    print(\"%2d) %-*s %f\" % (f + 1, 30,\n",
    "                            feat_labels[indices[f]],\n",
    "                            importances[indices[f]]))\n",
    "plt.title('Importancia de variables')\n",
    "plt.bar(range(X_train.shape[1]),\n",
    "        importances[indices],\n",
    "        align = 'center')\n",
    "plt.xticks(range(X_train.shape[1]),\n",
    "           feat_labels[indices], rotation = 90)\n",
    "plt.xlim([-1, X_train.shape[1]])\n",
    "plt.tight_layout()\n",
    "plt.show()"
   ],
   "metadata": {
    "collapsed": false,
    "ExecuteTime": {
     "end_time": "2024-04-01T13:40:38.398701Z",
     "start_time": "2024-04-01T13:40:37.503540Z"
    }
   },
   "id": "958e437533916db",
   "execution_count": 49
  },
  {
   "cell_type": "markdown",
   "source": [
    "* Qué podemos concluir?\n",
    "* Qué problema tiene este método?"
   ],
   "metadata": {
    "collapsed": false
   },
   "id": "20138b33574667a9"
  },
  {
   "cell_type": "code",
   "outputs": [
    {
     "name": "stdout",
     "output_type": "stream",
     "text": [
      "Numero de variables que pasan el criterio limite Criterio: 5\n",
      " 1) Proline                        0.185453\n",
      " 2) Flavanoids                     0.174751\n",
      " 3) Color intensity                0.143920\n",
      " 4) 0D280/OD315 of diluted wines   0.136162\n",
      " 5) Alcohol                        0.118529\n"
     ]
    }
   ],
   "source": [
    "from sklearn.feature_selection import SelectFromModel\n",
    "sfm = SelectFromModel(forest, threshold = 0.1, prefit = True)\n",
    "X_selected = sfm.transform(X_train)\n",
    "print(\"Numero de variables que pasan el criterio limite\", \"Criterio:\", X_selected.shape[1])\n",
    "for f in range(X_selected.shape[1]):\n",
    "    print(\"%2d) %-*s %f\" % (f + 1, 30,\n",
    "          feat_labels[indices[f]],\n",
    "          importances[indices[f]]))"
   ],
   "metadata": {
    "collapsed": false,
    "ExecuteTime": {
     "end_time": "2024-04-01T13:58:01.324621Z",
     "start_time": "2024-04-01T13:58:01.242681Z"
    }
   },
   "id": "235c3d5bac71f2ec",
   "execution_count": 51
  }
 ],
 "metadata": {
  "kernelspec": {
   "display_name": "Python 3",
   "language": "python",
   "name": "python3"
  },
  "language_info": {
   "codemirror_mode": {
    "name": "ipython",
    "version": 2
   },
   "file_extension": ".py",
   "mimetype": "text/x-python",
   "name": "python",
   "nbconvert_exporter": "python",
   "pygments_lexer": "ipython2",
   "version": "2.7.6"
  }
 },
 "nbformat": 4,
 "nbformat_minor": 5
}
